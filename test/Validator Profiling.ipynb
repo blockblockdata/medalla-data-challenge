{
 "cells": [
  {
   "cell_type": "code",
   "execution_count": 1,
   "metadata": {},
   "outputs": [],
   "source": [
    "import numpy as np\n",
    "import pandas as pd\n",
    "import matplotlib.pyplot as plt\n",
    "import seaborn as sns\n",
    "\n",
    "%matplotlib inline\n",
    "sns.set()"
   ]
  },
  {
   "cell_type": "code",
   "execution_count": 2,
   "metadata": {},
   "outputs": [],
   "source": [
    "df = pd.read_csv('t_validators.csv')"
   ]
  },
  {
   "cell_type": "code",
   "execution_count": 3,
   "metadata": {},
   "outputs": [
    {
     "data": {
      "text/html": [
       "<div>\n",
       "<style scoped>\n",
       "    .dataframe tbody tr th:only-of-type {\n",
       "        vertical-align: middle;\n",
       "    }\n",
       "\n",
       "    .dataframe tbody tr th {\n",
       "        vertical-align: top;\n",
       "    }\n",
       "\n",
       "    .dataframe thead th {\n",
       "        text-align: right;\n",
       "    }\n",
       "</style>\n",
       "<table border=\"1\" class=\"dataframe\">\n",
       "  <thead>\n",
       "    <tr style=\"text-align: right;\">\n",
       "      <th></th>\n",
       "      <th>f_public_key</th>\n",
       "      <th>f_index</th>\n",
       "      <th>f_slashed</th>\n",
       "      <th>f_activation_eligibility_epoch</th>\n",
       "      <th>f_activation_epoch</th>\n",
       "      <th>f_exit_epoch</th>\n",
       "      <th>f_withdrawable_epoch</th>\n",
       "      <th>f_effective_balance</th>\n",
       "    </tr>\n",
       "  </thead>\n",
       "  <tbody>\n",
       "    <tr>\n",
       "      <th>0</th>\n",
       "      <td>binary data</td>\n",
       "      <td>48893</td>\n",
       "      <td>False</td>\n",
       "      <td>4571</td>\n",
       "      <td>7433</td>\n",
       "      <td>-1</td>\n",
       "      <td>-1</td>\n",
       "      <td>32000000000</td>\n",
       "    </tr>\n",
       "    <tr>\n",
       "      <th>1</th>\n",
       "      <td>binary data</td>\n",
       "      <td>5307</td>\n",
       "      <td>True</td>\n",
       "      <td>0</td>\n",
       "      <td>0</td>\n",
       "      <td>11430</td>\n",
       "      <td>11430</td>\n",
       "      <td>32000000000</td>\n",
       "    </tr>\n",
       "    <tr>\n",
       "      <th>2</th>\n",
       "      <td>binary data</td>\n",
       "      <td>39294</td>\n",
       "      <td>False</td>\n",
       "      <td>3895</td>\n",
       "      <td>5033</td>\n",
       "      <td>-1</td>\n",
       "      <td>-1</td>\n",
       "      <td>32000000000</td>\n",
       "    </tr>\n",
       "    <tr>\n",
       "      <th>3</th>\n",
       "      <td>binary data</td>\n",
       "      <td>6277</td>\n",
       "      <td>False</td>\n",
       "      <td>0</td>\n",
       "      <td>0</td>\n",
       "      <td>-1</td>\n",
       "      <td>-1</td>\n",
       "      <td>31000000000</td>\n",
       "    </tr>\n",
       "    <tr>\n",
       "      <th>4</th>\n",
       "      <td>binary data</td>\n",
       "      <td>65047</td>\n",
       "      <td>False</td>\n",
       "      <td>8824</td>\n",
       "      <td>11471</td>\n",
       "      <td>-1</td>\n",
       "      <td>-1</td>\n",
       "      <td>32000000000</td>\n",
       "    </tr>\n",
       "  </tbody>\n",
       "</table>\n",
       "</div>"
      ],
      "text/plain": [
       "  f_public_key  f_index  f_slashed  f_activation_eligibility_epoch  \\\n",
       "0  binary data    48893      False                            4571   \n",
       "1  binary data     5307       True                               0   \n",
       "2  binary data    39294      False                            3895   \n",
       "3  binary data     6277      False                               0   \n",
       "4  binary data    65047      False                            8824   \n",
       "\n",
       "   f_activation_epoch  f_exit_epoch  f_withdrawable_epoch  f_effective_balance  \n",
       "0                7433            -1                    -1          32000000000  \n",
       "1                   0         11430                 11430          32000000000  \n",
       "2                5033            -1                    -1          32000000000  \n",
       "3                   0            -1                    -1          31000000000  \n",
       "4               11471            -1                    -1          32000000000  "
      ]
     },
     "execution_count": 3,
     "metadata": {},
     "output_type": "execute_result"
    }
   ],
   "source": [
    "df.head()"
   ]
  },
  {
   "cell_type": "code",
   "execution_count": 11,
   "metadata": {},
   "outputs": [
    {
     "data": {
      "text/plain": [
       "Index(['f_public_key', 'f_index', 'f_slashed',\n",
       "       'f_activation_eligibility_epoch', 'f_activation_epoch', 'f_exit_epoch',\n",
       "       'f_withdrawable_epoch', 'f_effective_balance'],\n",
       "      dtype='object')"
      ]
     },
     "execution_count": 11,
     "metadata": {},
     "output_type": "execute_result"
    }
   ],
   "source": [
    "df.columns"
   ]
  },
  {
   "cell_type": "code",
   "execution_count": 16,
   "metadata": {},
   "outputs": [],
   "source": [
    "def exit_to_epoch_bin_conv(row, row_name):\n",
    "    if row[row_name] == -1:\n",
    "        return 0\n",
    "    else:\n",
    "        return 1"
   ]
  },
  {
   "cell_type": "code",
   "execution_count": null,
   "metadata": {},
   "outputs": [],
   "source": []
  },
  {
   "cell_type": "code",
   "execution_count": 14,
   "metadata": {},
   "outputs": [],
   "source": [
    "df['f_exit_epoch_bin'] = df.apply(lambda x: exit_to_epoch_bin_conv(x, 'f_exit_epoch'), axis=1)"
   ]
  },
  {
   "cell_type": "code",
   "execution_count": 17,
   "metadata": {},
   "outputs": [],
   "source": [
    "df['f_withdrawable_epoch_bin'] = df.apply(lambda x: exit_to_epoch_bin_conv(x, 'f_withdrawable_epoch'), axis=1)"
   ]
  },
  {
   "cell_type": "code",
   "execution_count": 21,
   "metadata": {},
   "outputs": [
    {
     "data": {
      "text/plain": [
       "0       20084\n",
       "3929      444\n",
       "855       432\n",
       "4186      430\n",
       "823       422\n",
       "        ...  \n",
       "3801        1\n",
       "8313        1\n",
       "8407        1\n",
       "6519        1\n",
       "9945        1\n",
       "Name: f_activation_eligibility_epoch, Length: 472, dtype: int64"
      ]
     },
     "execution_count": 21,
     "metadata": {},
     "output_type": "execute_result"
    }
   ],
   "source": [
    "df['f_activation_eligibility_epoch'].value_counts()"
   ]
  },
  {
   "cell_type": "code",
   "execution_count": 22,
   "metadata": {},
   "outputs": [
    {
     "data": {
      "text/plain": [
       " 0        20084\n",
       "-1         4288\n",
       " 4118         4\n",
       " 2772         4\n",
       " 10960        4\n",
       "          ...  \n",
       " 7593         4\n",
       " 5544         4\n",
       " 11631        4\n",
       " 6243         4\n",
       " 3238         3\n",
       "Name: f_activation_epoch, Length: 12705, dtype: int64"
      ]
     },
     "execution_count": 22,
     "metadata": {},
     "output_type": "execute_result"
    }
   ],
   "source": [
    "df['f_activation_epoch'].value_counts()"
   ]
  },
  {
   "cell_type": "code",
   "execution_count": 32,
   "metadata": {},
   "outputs": [],
   "source": [
    "df['f_slashed_bin'] = df['f_slashed'].apply(lambda x: 1 if x == True else 0)"
   ]
  },
  {
   "cell_type": "code",
   "execution_count": 36,
   "metadata": {},
   "outputs": [
    {
     "data": {
      "text/plain": [
       "f_public_key\n",
       "binary data    75183\n",
       "Name: f_slashed_bin, dtype: int64"
      ]
     },
     "execution_count": 36,
     "metadata": {},
     "output_type": "execute_result"
    }
   ],
   "source": [
    "df.groupby('f_public_key')['f_slashed_bin'].count()"
   ]
  },
  {
   "cell_type": "code",
   "execution_count": 38,
   "metadata": {},
   "outputs": [
    {
     "data": {
      "text/plain": [
       "binary data    75183\n",
       "Name: f_public_key, dtype: int64"
      ]
     },
     "execution_count": 38,
     "metadata": {},
     "output_type": "execute_result"
    }
   ],
   "source": [
    "df['f_public_key'].value_counts()"
   ]
  },
  {
   "cell_type": "code",
   "execution_count": 39,
   "metadata": {},
   "outputs": [
    {
     "data": {
      "text/html": [
       "<div>\n",
       "<style scoped>\n",
       "    .dataframe tbody tr th:only-of-type {\n",
       "        vertical-align: middle;\n",
       "    }\n",
       "\n",
       "    .dataframe tbody tr th {\n",
       "        vertical-align: top;\n",
       "    }\n",
       "\n",
       "    .dataframe thead th {\n",
       "        text-align: right;\n",
       "    }\n",
       "</style>\n",
       "<table border=\"1\" class=\"dataframe\">\n",
       "  <thead>\n",
       "    <tr style=\"text-align: right;\">\n",
       "      <th></th>\n",
       "      <th>f_public_key</th>\n",
       "      <th>f_index</th>\n",
       "      <th>f_slashed</th>\n",
       "      <th>f_activation_eligibility_epoch</th>\n",
       "      <th>f_activation_epoch</th>\n",
       "      <th>f_exit_epoch</th>\n",
       "      <th>f_withdrawable_epoch</th>\n",
       "      <th>f_effective_balance</th>\n",
       "      <th>f_exit_epoch_bin</th>\n",
       "      <th>f_withdrawable_epoch_bin</th>\n",
       "      <th>f_slashed_bin</th>\n",
       "    </tr>\n",
       "  </thead>\n",
       "  <tbody>\n",
       "    <tr>\n",
       "      <th>0</th>\n",
       "      <td>binary data</td>\n",
       "      <td>48893</td>\n",
       "      <td>False</td>\n",
       "      <td>4571</td>\n",
       "      <td>7433</td>\n",
       "      <td>-1</td>\n",
       "      <td>-1</td>\n",
       "      <td>32000000000</td>\n",
       "      <td>0</td>\n",
       "      <td>0</td>\n",
       "      <td>0</td>\n",
       "    </tr>\n",
       "    <tr>\n",
       "      <th>1</th>\n",
       "      <td>binary data</td>\n",
       "      <td>5307</td>\n",
       "      <td>True</td>\n",
       "      <td>0</td>\n",
       "      <td>0</td>\n",
       "      <td>11430</td>\n",
       "      <td>11430</td>\n",
       "      <td>32000000000</td>\n",
       "      <td>1</td>\n",
       "      <td>1</td>\n",
       "      <td>1</td>\n",
       "    </tr>\n",
       "    <tr>\n",
       "      <th>2</th>\n",
       "      <td>binary data</td>\n",
       "      <td>39294</td>\n",
       "      <td>False</td>\n",
       "      <td>3895</td>\n",
       "      <td>5033</td>\n",
       "      <td>-1</td>\n",
       "      <td>-1</td>\n",
       "      <td>32000000000</td>\n",
       "      <td>0</td>\n",
       "      <td>0</td>\n",
       "      <td>0</td>\n",
       "    </tr>\n",
       "    <tr>\n",
       "      <th>3</th>\n",
       "      <td>binary data</td>\n",
       "      <td>6277</td>\n",
       "      <td>False</td>\n",
       "      <td>0</td>\n",
       "      <td>0</td>\n",
       "      <td>-1</td>\n",
       "      <td>-1</td>\n",
       "      <td>31000000000</td>\n",
       "      <td>0</td>\n",
       "      <td>0</td>\n",
       "      <td>0</td>\n",
       "    </tr>\n",
       "    <tr>\n",
       "      <th>4</th>\n",
       "      <td>binary data</td>\n",
       "      <td>65047</td>\n",
       "      <td>False</td>\n",
       "      <td>8824</td>\n",
       "      <td>11471</td>\n",
       "      <td>-1</td>\n",
       "      <td>-1</td>\n",
       "      <td>32000000000</td>\n",
       "      <td>0</td>\n",
       "      <td>0</td>\n",
       "      <td>0</td>\n",
       "    </tr>\n",
       "  </tbody>\n",
       "</table>\n",
       "</div>"
      ],
      "text/plain": [
       "  f_public_key  f_index  f_slashed  f_activation_eligibility_epoch  \\\n",
       "0  binary data    48893      False                            4571   \n",
       "1  binary data     5307       True                               0   \n",
       "2  binary data    39294      False                            3895   \n",
       "3  binary data     6277      False                               0   \n",
       "4  binary data    65047      False                            8824   \n",
       "\n",
       "   f_activation_epoch  f_exit_epoch  f_withdrawable_epoch  \\\n",
       "0                7433            -1                    -1   \n",
       "1                   0         11430                 11430   \n",
       "2                5033            -1                    -1   \n",
       "3                   0            -1                    -1   \n",
       "4               11471            -1                    -1   \n",
       "\n",
       "   f_effective_balance  f_exit_epoch_bin  f_withdrawable_epoch_bin  \\\n",
       "0          32000000000                 0                         0   \n",
       "1          32000000000                 1                         1   \n",
       "2          32000000000                 0                         0   \n",
       "3          31000000000                 0                         0   \n",
       "4          32000000000                 0                         0   \n",
       "\n",
       "   f_slashed_bin  \n",
       "0              0  \n",
       "1              1  \n",
       "2              0  \n",
       "3              0  \n",
       "4              0  "
      ]
     },
     "execution_count": 39,
     "metadata": {},
     "output_type": "execute_result"
    }
   ],
   "source": [
    "df.head()"
   ]
  },
  {
   "cell_type": "code",
   "execution_count": null,
   "metadata": {},
   "outputs": [],
   "source": []
  },
  {
   "cell_type": "code",
   "execution_count": null,
   "metadata": {},
   "outputs": [],
   "source": []
  },
  {
   "cell_type": "code",
   "execution_count": null,
   "metadata": {},
   "outputs": [],
   "source": [
    "def activation_eligibility_epoch_bin(row):\n",
    "    "
   ]
  },
  {
   "cell_type": "code",
   "execution_count": null,
   "metadata": {},
   "outputs": [],
   "source": []
  },
  {
   "cell_type": "code",
   "execution_count": null,
   "metadata": {},
   "outputs": [],
   "source": []
  },
  {
   "cell_type": "code",
   "execution_count": 31,
   "metadata": {},
   "outputs": [
    {
     "data": {
      "text/plain": [
       "32000000000    43013\n",
       "31000000000    21010\n",
       "30000000000     6000\n",
       "20000000000     2538\n",
       "19000000000     1336\n",
       "18000000000     1126\n",
       "21000000000       86\n",
       "29000000000       30\n",
       "24000000000       25\n",
       "22000000000        6\n",
       "16000000000        5\n",
       "1000000000         4\n",
       "15000000000        3\n",
       "17000000000        1\n",
       "Name: f_effective_balance, dtype: int64"
      ]
     },
     "execution_count": 31,
     "metadata": {},
     "output_type": "execute_result"
    }
   ],
   "source": [
    "df['f_effective_balance'].value_counts()"
   ]
  },
  {
   "cell_type": "code",
   "execution_count": 4,
   "metadata": {},
   "outputs": [
    {
     "data": {
      "text/plain": [
       "-1        68981\n",
       " 11434       47\n",
       " 11471       42\n",
       " 11436       42\n",
       " 11513       41\n",
       "          ...  \n",
       " 1190         1\n",
       " 12899        1\n",
       " 19757        1\n",
       " 20010        1\n",
       " 8196         1\n",
       "Name: f_exit_epoch, Length: 741, dtype: int64"
      ]
     },
     "execution_count": 4,
     "metadata": {},
     "output_type": "execute_result"
    }
   ],
   "source": [
    "df['f_exit_epoch'].value_counts()"
   ]
  },
  {
   "cell_type": "code",
   "execution_count": 4,
   "metadata": {},
   "outputs": [
    {
     "name": "stdout",
     "output_type": "stream",
     "text": [
      "<class 'pandas.core.frame.DataFrame'>\n",
      "RangeIndex: 75183 entries, 0 to 75182\n",
      "Data columns (total 8 columns):\n",
      " #   Column                          Non-Null Count  Dtype \n",
      "---  ------                          --------------  ----- \n",
      " 0   f_public_key                    75183 non-null  object\n",
      " 1   f_index                         75183 non-null  int64 \n",
      " 2   f_slashed                       75183 non-null  bool  \n",
      " 3   f_activation_eligibility_epoch  75183 non-null  int64 \n",
      " 4   f_activation_epoch              75183 non-null  int64 \n",
      " 5   f_exit_epoch                    75183 non-null  int64 \n",
      " 6   f_withdrawable_epoch            75183 non-null  int64 \n",
      " 7   f_effective_balance             75183 non-null  int64 \n",
      "dtypes: bool(1), int64(6), object(1)\n",
      "memory usage: 4.1+ MB\n"
     ]
    }
   ],
   "source": [
    "df.info()"
   ]
  },
  {
   "cell_type": "code",
   "execution_count": 5,
   "metadata": {},
   "outputs": [
    {
     "data": {
      "text/html": [
       "<div>\n",
       "<style scoped>\n",
       "    .dataframe tbody tr th:only-of-type {\n",
       "        vertical-align: middle;\n",
       "    }\n",
       "\n",
       "    .dataframe tbody tr th {\n",
       "        vertical-align: top;\n",
       "    }\n",
       "\n",
       "    .dataframe thead th {\n",
       "        text-align: right;\n",
       "    }\n",
       "</style>\n",
       "<table border=\"1\" class=\"dataframe\">\n",
       "  <thead>\n",
       "    <tr style=\"text-align: right;\">\n",
       "      <th></th>\n",
       "      <th>f_index</th>\n",
       "      <th>f_activation_eligibility_epoch</th>\n",
       "      <th>f_activation_epoch</th>\n",
       "      <th>f_exit_epoch</th>\n",
       "      <th>f_withdrawable_epoch</th>\n",
       "      <th>f_effective_balance</th>\n",
       "    </tr>\n",
       "  </thead>\n",
       "  <tbody>\n",
       "    <tr>\n",
       "      <th>count</th>\n",
       "      <td>75183.000000</td>\n",
       "      <td>75183.000000</td>\n",
       "      <td>75183.000000</td>\n",
       "      <td>75183.000000</td>\n",
       "      <td>75183.000000</td>\n",
       "      <td>7.518300e+04</td>\n",
       "    </tr>\n",
       "    <tr>\n",
       "      <th>mean</th>\n",
       "      <td>37591.000000</td>\n",
       "      <td>3845.983800</td>\n",
       "      <td>4415.438144</td>\n",
       "      <td>896.363819</td>\n",
       "      <td>896.363819</td>\n",
       "      <td>3.069433e+10</td>\n",
       "    </tr>\n",
       "    <tr>\n",
       "      <th>std</th>\n",
       "      <td>21703.606981</td>\n",
       "      <td>3835.014179</td>\n",
       "      <td>4331.005839</td>\n",
       "      <td>3067.904294</td>\n",
       "      <td>3067.904294</td>\n",
       "      <td>3.153990e+09</td>\n",
       "    </tr>\n",
       "    <tr>\n",
       "      <th>min</th>\n",
       "      <td>0.000000</td>\n",
       "      <td>-1.000000</td>\n",
       "      <td>-1.000000</td>\n",
       "      <td>-1.000000</td>\n",
       "      <td>-1.000000</td>\n",
       "      <td>1.000000e+09</td>\n",
       "    </tr>\n",
       "    <tr>\n",
       "      <th>25%</th>\n",
       "      <td>18795.500000</td>\n",
       "      <td>0.000000</td>\n",
       "      <td>0.000000</td>\n",
       "      <td>-1.000000</td>\n",
       "      <td>-1.000000</td>\n",
       "      <td>3.100000e+10</td>\n",
       "    </tr>\n",
       "    <tr>\n",
       "      <th>50%</th>\n",
       "      <td>37591.000000</td>\n",
       "      <td>3775.000000</td>\n",
       "      <td>3536.000000</td>\n",
       "      <td>-1.000000</td>\n",
       "      <td>-1.000000</td>\n",
       "      <td>3.200000e+10</td>\n",
       "    </tr>\n",
       "    <tr>\n",
       "      <th>75%</th>\n",
       "      <td>56386.500000</td>\n",
       "      <td>6870.000000</td>\n",
       "      <td>8234.500000</td>\n",
       "      <td>-1.000000</td>\n",
       "      <td>-1.000000</td>\n",
       "      <td>3.200000e+10</td>\n",
       "    </tr>\n",
       "    <tr>\n",
       "      <th>max</th>\n",
       "      <td>75182.000000</td>\n",
       "      <td>12926.000000</td>\n",
       "      <td>12933.000000</td>\n",
       "      <td>20944.000000</td>\n",
       "      <td>20944.000000</td>\n",
       "      <td>3.200000e+10</td>\n",
       "    </tr>\n",
       "  </tbody>\n",
       "</table>\n",
       "</div>"
      ],
      "text/plain": [
       "            f_index  f_activation_eligibility_epoch  f_activation_epoch  \\\n",
       "count  75183.000000                    75183.000000        75183.000000   \n",
       "mean   37591.000000                     3845.983800         4415.438144   \n",
       "std    21703.606981                     3835.014179         4331.005839   \n",
       "min        0.000000                       -1.000000           -1.000000   \n",
       "25%    18795.500000                        0.000000            0.000000   \n",
       "50%    37591.000000                     3775.000000         3536.000000   \n",
       "75%    56386.500000                     6870.000000         8234.500000   \n",
       "max    75182.000000                    12926.000000        12933.000000   \n",
       "\n",
       "       f_exit_epoch  f_withdrawable_epoch  f_effective_balance  \n",
       "count  75183.000000          75183.000000         7.518300e+04  \n",
       "mean     896.363819            896.363819         3.069433e+10  \n",
       "std     3067.904294           3067.904294         3.153990e+09  \n",
       "min       -1.000000             -1.000000         1.000000e+09  \n",
       "25%       -1.000000             -1.000000         3.100000e+10  \n",
       "50%       -1.000000             -1.000000         3.200000e+10  \n",
       "75%       -1.000000             -1.000000         3.200000e+10  \n",
       "max    20944.000000          20944.000000         3.200000e+10  "
      ]
     },
     "execution_count": 5,
     "metadata": {},
     "output_type": "execute_result"
    }
   ],
   "source": [
    "df.describe()"
   ]
  },
  {
   "cell_type": "code",
   "execution_count": 26,
   "metadata": {},
   "outputs": [
    {
     "data": {
      "text/plain": [
       "<matplotlib.axes._subplots.AxesSubplot at 0x7fb1e5ac3850>"
      ]
     },
     "execution_count": 26,
     "metadata": {},
     "output_type": "execute_result"
    },
    {
     "data": {
      "image/png": "[encoded data removed]",
      "text/plain": [
       "<Figure size 432x288 with 1 Axes>"
      ]
     },
     "metadata": {},
     "output_type": "display_data"
    }
   ],
   "source": [
    "sns.distplot(df['f_effective_balance'])"
   ]
  },
  {
   "cell_type": "code",
   "execution_count": 15,
   "metadata": {},
   "outputs": [
    {
     "data": {
      "text/plain": [
       "<matplotlib.axes._subplots.AxesSubplot at 0x7fb1e55a3e10>"
      ]
     },
     "execution_count": 15,
     "metadata": {},
     "output_type": "execute_result"
    },
    {
     "data": {
      "image/png": "[encoded data removed]",
      "text/plain": [
       "<Figure size 432x288 with 1 Axes>"
      ]
     },
     "metadata": {},
     "output_type": "display_data"
    }
   ],
   "source": [
    "sns.scatterplot(df['f_withdrawable_epoch'], df['f_effective_balance'], hue=df['f_slashed'],x_jitter=)"
   ]
  },
  {
   "cell_type": "code",
   "execution_count": 17,
   "metadata": {},
   "outputs": [
    {
     "data": {
      "text/plain": [
       "<matplotlib.axes._subplots.AxesSubplot at 0x7fb1e55e0c50>"
      ]
     },
     "execution_count": 17,
     "metadata": {},
     "output_type": "execute_result"
    },
    {
     "data": {
      "image/png": "[encoded data removed]",
      "text/plain": [
       "<Figure size 432x288 with 1 Axes>"
      ]
     },
     "metadata": {},
     "output_type": "display_data"
    }
   ],
   "source": [
    "sns.scatterplot(df['f_activation_epoch'], df['f_effective_balance'], hue=df['f_slashed'])"
   ]
  },
  {
   "cell_type": "code",
   "execution_count": 19,
   "metadata": {},
   "outputs": [
    {
     "data": {
      "text/plain": [
       "<matplotlib.axes._subplots.AxesSubplot at 0x7fb1e5125410>"
      ]
     },
     "execution_count": 19,
     "metadata": {},
     "output_type": "execute_result"
    },
    {
     "data": {
      "image/png": "[encoded data removed]",
      "text/plain": [
       "<Figure size 432x288 with 1 Axes>"
      ]
     },
     "metadata": {},
     "output_type": "display_data"
    }
   ],
   "source": [
    "sns.scatterplot(df['f_exit_epoch'], df['f_effective_balance'], hue=df['f_slashed'])"
   ]
  },
  {
   "cell_type": "code",
   "execution_count": 18,
   "metadata": {},
   "outputs": [
    {
     "data": {
      "text/plain": [
       "<matplotlib.axes._subplots.AxesSubplot at 0x7fb1e5193710>"
      ]
     },
     "execution_count": 18,
     "metadata": {},
     "output_type": "execute_result"
    },
    {
     "data": {
      "image/png": "[encoded data removed]",
      "text/plain": [
       "<Figure size 432x288 with 1 Axes>"
      ]
     },
     "metadata": {},
     "output_type": "display_data"
    }
   ],
   "source": [
    "sns.scatterplot(df['f_activation_eligibility_epoch'], df['f_effective_balance'], hue=df['f_slashed'])"
   ]
  },
  {
   "cell_type": "code",
   "execution_count": null,
   "metadata": {},
   "outputs": [],
   "source": []
  },
  {
   "cell_type": "code",
   "execution_count": null,
   "metadata": {},
   "outputs": [],
   "source": []
  },
  {
   "cell_type": "code",
   "execution_count": 8,
   "metadata": {},
   "outputs": [],
   "source": [
    "from sklearn.preprocessing import StandardScaler\n",
    "from sklearn.cluster import KMeans, MeanShift\n",
    "from sklearn import mixture"
   ]
  },
  {
   "cell_type": "code",
   "execution_count": 24,
   "metadata": {},
   "outputs": [],
   "source": [
    "# Scale relevant features\n",
    "scaler = StandardScaler()\n",
    "df_slashed_dummies = df['f_slashed'].get_dummies()"
   ]
  },
  {
   "cell_type": "code",
   "execution_count": 2,
   "metadata": {},
   "outputs": [],
   "source": [
    "# Relevant columns\n",
    "# f_index                         75183 non-null  int64 \n",
    "# f_slashed                       75183 non-null  bool  [APPEND DUMMIFIED VERSION AFTER SCALING]\n",
    "# f_activation_eligibility_epoch  75183 non-null  int64 \n",
    "# f_activation_epoch              75183 non-null  int64 \n",
    "# f_exit_epoch                    75183 non-null  int64 \n",
    "# f_withdrawable_epoch            75183 non-null  int64 \n",
    "# f_effective_balance  "
   ]
  },
  {
   "cell_type": "code",
   "execution_count": 20,
   "metadata": {},
   "outputs": [],
   "source": [
    "km = KMeans(n_clusters=5)"
   ]
  },
  {
   "cell_type": "code",
   "execution_count": null,
   "metadata": {},
   "outputs": [],
   "source": [
    "km.fit(df[['f_slashed',]])"
   ]
  }
 ],
 "metadata": {
  "kernelspec": {
   "display_name": "Python 3",
   "language": "python",
   "name": "python3"
  },
  "language_info": {
   "codemirror_mode": {
    "name": "ipython",
    "version": 3
   },
   "file_extension": ".py",
   "mimetype": "text/x-python",
   "name": "python",
   "nbconvert_exporter": "python",
   "pygments_lexer": "ipython3",
   "version": "3.7.6"
  }
 },
 "nbformat": 4,
 "nbformat_minor": 4
}
